{
 "cells": [
  {
   "cell_type": "markdown",
   "metadata": {},
   "source": [
    "# Text Analytics Group Assignment 1"
   ]
  },
  {
   "cell_type": "markdown",
   "metadata": {},
   "source": [
    "This assignment has two parts, A and B. In A, you will perform some basic text mining tasks just to familiarize yourself with the nuances of putting text mining theories to practice with Python scripts. Part B involves building and testing classification models to predict salaries from the text contained in the job descriptions. The data for this assignment can be found at http://www.kaggle.com/c/job-salary-prediction\n"
   ]
  },
  {
   "cell_type": "markdown",
   "metadata": {},
   "source": [
    "##Part A (basic text mining)"
   ]
  },
  {
   "cell_type": "markdown",
   "metadata": {},
   "source": [
    "#### A1. What are the top 5 parts of speech in this corpus of job descriptions? How frequently do they appear?"
   ]
  },
  {
   "cell_type": "code",
   "execution_count": 129,
   "metadata": {
    "collapsed": false
   },
   "outputs": [
    {
     "name": "stdout",
     "output_type": "stream",
     "text": [
      "Populating the interactive namespace from numpy and matplotlib\n"
     ]
    },
    {
     "name": "stderr",
     "output_type": "stream",
     "text": [
      "WARNING: pylab import has clobbered these variables: ['random', 'load', 'var']\n",
      "`%matplotlib` prevents importing * from pylab and numpy\n"
     ]
    }
   ],
   "source": [
    "import pandas as pd\n",
    "from pandas import Series\n",
    "import numpy as np\n",
    "%pylab inline\n",
    "import nltk\n",
    "from nltk import word_tokenize\n",
    "from nltk import pos_tag\n",
    "from nltk.corpus import stopwords\n",
    "from nltk.stem.wordnet import WordNetLemmatizer\n",
    "import matplotlib.pyplot as plt\n",
    "import re\n",
    "import math\n",
    "from collections import Counter\n",
    "from operator import itemgetter\n",
    "from nltk.data import load\n",
    "import random\n",
    "from sklearn.naive_bayes import MultinomialNB\n",
    "from sklearn.feature_extraction.text import TfidfVectorizer\n",
    "from operator import itemgetter\n",
    "import math"
   ]
  },
  {
   "cell_type": "code",
   "execution_count": 130,
   "metadata": {
    "collapsed": false
   },
   "outputs": [],
   "source": [
    "# read in data\n",
    "salary_data = pd.read_csv(\"Train_rev1.csv\")\n",
    "desc = salary_data['FullDescription']"
   ]
  },
  {
   "cell_type": "code",
   "execution_count": 131,
   "metadata": {
    "collapsed": true
   },
   "outputs": [],
   "source": [
    "# use first 15000 rows\n",
    "working_data = salary_data[0:15000]"
   ]
  },
  {
   "cell_type": "code",
   "execution_count": 132,
   "metadata": {
    "collapsed": false
   },
   "outputs": [],
   "source": [
    "# find unique tokens\n",
    "wordlist = []\n",
    "\n",
    "for index, row in enumerate(working_data['FullDescription']):\n",
    "    string = row.decode('utf-8')\n",
    "    temp = word_tokenize(string)\n",
    "    for i in temp:\n",
    "        wordlist.append(i)\n",
    "\n",
    "wordlist = [t.lower() for t in wordlist if t.isalpha()]\n",
    "wordset = [t.lower() for t in wordlist if t.isalpha()]\n",
    "wordset = list(set(wordlist))"
   ]
  },
  {
   "cell_type": "code",
   "execution_count": 133,
   "metadata": {
    "collapsed": false
   },
   "outputs": [],
   "source": [
    "counts = Counter(wordlist) # return a dict of words and their frequency in the corpus"
   ]
  },
  {
   "cell_type": "code",
   "execution_count": 134,
   "metadata": {
    "collapsed": true
   },
   "outputs": [],
   "source": [
    "pos_tokens = nltk.pos_tag(wordset) # get pos for words\n",
    "compiled_pos_freq = [(word, tag, counts[word]) for (word, tag) in pos_tokens] # get list of word, pos, count"
   ]
  },
  {
   "cell_type": "code",
   "execution_count": 135,
   "metadata": {
    "collapsed": true
   },
   "outputs": [],
   "source": [
    "tokens_fd = nltk.FreqDist(tag for (word, tag, count) in compiled_pos_freq for i in range(0, count)) # get pos counts"
   ]
  },
  {
   "cell_type": "code",
   "execution_count": 136,
   "metadata": {
    "collapsed": false
   },
   "outputs": [
    {
     "name": "stdout",
     "output_type": "stream",
     "text": [
      "Top 5 Parts of Speech (Question A1)\n",
      "Axes(0.125,0.125;0.775x0.775)\n"
     ]
    },
    {
     "data": {
      "text/html": [
       "<div>\n",
       "<table border=\"1\" class=\"dataframe\">\n",
       "  <thead>\n",
       "    <tr style=\"text-align: right;\">\n",
       "      <th></th>\n",
       "      <th>Description</th>\n",
       "      <th>Count</th>\n",
       "    </tr>\n",
       "  </thead>\n",
       "  <tbody>\n",
       "    <tr>\n",
       "      <th>NN</th>\n",
       "      <td>noun, common, singular or mass</td>\n",
       "      <td>1054672</td>\n",
       "    </tr>\n",
       "    <tr>\n",
       "      <th>IN</th>\n",
       "      <td>preposition or conjunction, subordinating</td>\n",
       "      <td>394398</td>\n",
       "    </tr>\n",
       "    <tr>\n",
       "      <th>NNS</th>\n",
       "      <td>noun, common, plural</td>\n",
       "      <td>295391</td>\n",
       "    </tr>\n",
       "    <tr>\n",
       "      <th>DT</th>\n",
       "      <td>determiner</td>\n",
       "      <td>283363</td>\n",
       "    </tr>\n",
       "    <tr>\n",
       "      <th>JJ</th>\n",
       "      <td>adjective or numeral, ordinal</td>\n",
       "      <td>235845</td>\n",
       "    </tr>\n",
       "  </tbody>\n",
       "</table>\n",
       "</div>"
      ],
      "text/plain": [
       "                                   Description    Count\n",
       "NN              noun, common, singular or mass  1054672\n",
       "IN   preposition or conjunction, subordinating   394398\n",
       "NNS                       noun, common, plural   295391\n",
       "DT                                  determiner   283363\n",
       "JJ               adjective or numeral, ordinal   235845"
      ]
     },
     "execution_count": 136,
     "metadata": {},
     "output_type": "execute_result"
    },
    {
     "data": {
      "image/png": "[encoded data removed]",
      "text/plain": [
       "<matplotlib.figure.Figure at 0xab07f2b0>"
      ]
     },
     "metadata": {},
     "output_type": "display_data"
    }
   ],
   "source": [
    "sorted_pos = sorted(tokens_fd.items(), key=itemgetter(1), reverse=True) # sort pos counts\n",
    "print 'Top 5 Parts of Speech (Question A1)'\n",
    "\n",
    "# bar graph of top 5 pos and their frequencies\n",
    "xvar = [x for (x, y) in sorted_pos]\n",
    "series_plot = pd.Series([y for (x, y) in sorted_pos], index=xvar)\n",
    "print(series_plot[0:5].plot(kind='bar'))\n",
    "\n",
    "labels = load('help/tagsets/upenn_tagset.pickle')\n",
    "dictionary = pd.Series({key:labels[key][0] for key in labels.keys()})\n",
    "pd.concat([dictionary, series_plot[0:5]], axis=1, join=\"inner\").rename(columns={0:'Description',1:'Count'})"
   ]
  },
  {
   "cell_type": "markdown",
   "metadata": {},
   "source": [
    "#### A2. Does this corpus support Zipf’s law? Plot the most common 100 words in the corpus against the theoretical prediction of the law. For this question, do not remove stopwords. Also do not perform stemming or lemmatization. "
   ]
  },
  {
   "cell_type": "code",
   "execution_count": 137,
   "metadata": {
    "collapsed": true
   },
   "outputs": [],
   "source": [
    "top100 = counts.most_common(100)\n",
    "top100counts = pd.Series([b for (a, b) in list_wordcounts]) # get the frequencies for the top 100 words\n",
    "top100words = pd.Series([a for (a, b) in list_wordcounts]) # get the top 100 words"
   ]
  },
  {
   "cell_type": "code",
   "execution_count": 138,
   "metadata": {
    "collapsed": false
   },
   "outputs": [],
   "source": [
    "index = xrange(1,100)\n",
    "zipf = []\n",
    "\n",
    "for i, value in enumerate(top100counts): # calculate Zipf's value\n",
    "    zipf.append((100000.0/(i+1))) # scaling Zipf's calculation due to difference in magnitude\n",
    "\n",
    "index = pd.Series(index)\n",
    "zipf = pd.Series(zipf)\n",
    "zipf = pd.concat([index, zipf, top100counts], axis=1) # df of word rank, zipf value, and count"
   ]
  },
  {
   "cell_type": "code",
   "execution_count": 139,
   "metadata": {
    "collapsed": false
   },
   "outputs": [
    {
     "data": {
      "image/png": "[encoded data removed]",
      "text/plain": [
       "<matplotlib.figure.Figure at 0xab07f400>"
      ]
     },
     "metadata": {},
     "output_type": "display_data"
    },
    {
     "name": "stdout",
     "output_type": "stream",
     "text": [
      "Zipf's law does hold true here because we see an inverse relationship between rank and token frequency.\n"
     ]
    }
   ],
   "source": [
    "plt.plot(zipf[[0]], zipf[[1]], 'b-', label='Zipf Pred.')\n",
    "plt.plot(zipf[[0]], zipf[[2]], 'r-', label='Actual')\n",
    "plt.yscale('log')\n",
    "plt.xlabel('Rank')\n",
    "plt.ylabel('Token Frequency')\n",
    "plt.xscale('log')\n",
    "plt.legend()\n",
    "plt.show()\n",
    "\n",
    "print 'Zipf\\'s law does hold true here because we see an inverse relationship between rank and token frequency.'"
   ]
  },
  {
   "cell_type": "markdown",
   "metadata": {},
   "source": [
    "#### A3. If we remove stopwords and lemmatize the corpus, what are the 10 most common words? What is their frequency?"
   ]
  },
  {
   "cell_type": "code",
   "execution_count": 78,
   "metadata": {
    "collapsed": false
   },
   "outputs": [
    {
     "name": "stdout",
     "output_type": "stream",
     "text": [
      "Top 10 Words without stop words and lemmatized, what are their frequencies? (Question A3)\n",
      "experience    24909\n",
      "work          18196\n",
      "role          16962\n",
      "team          16271\n",
      "client        16129\n",
      "care          14231\n",
      "working       13996\n",
      "service       13729\n",
      "skill         13173\n",
      "within        12795\n",
      "dtype: int64\n",
      "Axes(0.125,0.125;0.775x0.775)\n"
     ]
    },
    {
     "data": {
      "image/png": "[encoded data removed]",
      "text/plain": [
       "<matplotlib.figure.Figure at 0x9b2ccf98>"
      ]
     },
     "metadata": {},
     "output_type": "display_data"
    }
   ],
   "source": [
    "# remove stop words and lemmatize\n",
    "nostop = [word for word in wordlist if word not in stopwords.words('english')]\n",
    "\n",
    "lmtzr = WordNetLemmatizer()\n",
    "nostoplmtzed = [lmtzr.lemmatize(word) for word in nostop]\n",
    "\n",
    "print('Top 10 Words without stop words and lemmatized')\n",
    "print(pd.Series(nostoplmtzed).value_counts()[:10])\n",
    "print(pd.Series(nostoplmtzed).value_counts()[:10].plot(kind='bar'))"
   ]
  },
  {
   "cell_type": "markdown",
   "metadata": {},
   "source": [
    "##Part B (predict salary from job description)"
   ]
  },
  {
   "cell_type": "markdown",
   "metadata": {},
   "source": [
    "In this section, you will create classification models to predict high (75th percentile and above) or low (below 75th percentile) salary from the text contained in the job descriptions. Ignore all other data provided on kaggle.com that is not text (except the actual salary data, which you need to create the binary output of high/low salary).    \n",
    "Get the training data on kaggle.com (train_rev1), divide it randomly into training data (60%) and validation data (40%) to build and validate the model respectively. Do not use the validation data provided on kaggle.com. Use the Naïve Bayes classifier in Python (we will discuss the theory of Naïve Bayes later in this course. There are two versions of Naïve Bayes – binomial and multinomial; for the moment, let’s not bother about the theoretical underpinnings! You can use either one for this assignment). For all models below, show the confusion matrix."
   ]
  },
  {
   "cell_type": "markdown",
   "metadata": {},
   "source": [
    "#### B1. Create a classification model with all words and the bag-of-words approach. How accurate is the model (show the confusion matrix)?"
   ]
  },
  {
   "cell_type": "markdown",
   "metadata": {},
   "source": [
    "We ran two different Multinomial Naïve Bayes models: 1) using the random sample of all of the data and 2) using a sample with a 50/50 split of the classes. The reason we used the 50/50 split was to allow our function an equal sample of both classes to train on to achieve better accuracy. The model with the random sample predicted almost all 0's because most of the training data were 0's. Giving the model more 1's to train on should improve performance. Below we see that the equal class model does indeed perform better."
   ]
  },
  {
   "cell_type": "markdown",
   "metadata": {},
   "source": [
    "### Classification model with random sample of the data"
   ]
  },
  {
   "cell_type": "code",
   "execution_count": 140,
   "metadata": {
    "collapsed": false
   },
   "outputs": [],
   "source": [
    "np.random.seed(1234567)\n",
    "sample = salary_data.sample(15000, replace=False).copy() # sample the data\n",
    "salaries = sample['SalaryNormalized']\n",
    "threshold = np.percentile(salaries, 75) # threshold for dependent variable"
   ]
  },
  {
   "cell_type": "code",
   "execution_count": 141,
   "metadata": {
    "collapsed": false
   },
   "outputs": [],
   "source": [
    "sample['High'] = 0.0\n",
    "high_mask = sample['SalaryNormalized'] >= threshold\n",
    "sample.ix[high_mask,'High'] = 1"
   ]
  },
  {
   "cell_type": "code",
   "execution_count": 142,
   "metadata": {
    "collapsed": false
   },
   "outputs": [],
   "source": [
    "train = sample.sample(0.6*len(sample), replace=False).copy()\n",
    "test = sample[~sample.index.isin(train.index.values)]"
   ]
  },
  {
   "cell_type": "code",
   "execution_count": 143,
   "metadata": {
    "collapsed": false
   },
   "outputs": [],
   "source": [
    "train_x = train['FullDescription']\n",
    "train_y = train['High']\n",
    "\n",
    "test_x = test['FullDescription']\n",
    "test_y = test['High']"
   ]
  },
  {
   "cell_type": "code",
   "execution_count": 144,
   "metadata": {
    "collapsed": false
   },
   "outputs": [],
   "source": [
    "vectorizer = TfidfVectorizer(min_df=0, smooth_idf=True, strip_accents='unicode', norm='l2')"
   ]
  },
  {
   "cell_type": "code",
   "execution_count": 145,
   "metadata": {
    "collapsed": false
   },
   "outputs": [],
   "source": [
    "# function to train, test, and print results for MNB model\n",
    "def tester (v):\n",
    "    X_transform = v.fit_transform(train_x)\n",
    "    X_test = v.transform(test_x)\n",
    "    \n",
    "    nb_classifier = MultinomialNB().fit(X_transform, train_y)\n",
    "    y_nb_predicted = nb_classifier.predict(X_test)\n",
    "    \n",
    "    predict_y = Series(y_nb_predicted).reset_index()[0]\n",
    "    df = pd.DataFrame()\n",
    "    df['Predicted'] = predict_y\n",
    "    df['Test'] = test_y.reset_index()['High']\n",
    "    \n",
    "    print \"Percent Correct\\n\",round((df['Predicted'] == df['Test']).mean()*100,3)\n",
    "    print \"\\nConfusion Matrix\\n\", pd.crosstab(index=df['Test'], columns=df['Predicted'])\n",
    "    print \"\\nProportion Table\\n\", pd.crosstab(index=df['Test'], columns=df['Predicted']).apply(lambda r: r/r.sum(), axis=1)"
   ]
  },
  {
   "cell_type": "code",
   "execution_count": 146,
   "metadata": {
    "collapsed": false
   },
   "outputs": [
    {
     "name": "stdout",
     "output_type": "stream",
     "text": [
      "Percent Correct\n",
      "74.3\n",
      "\n",
      "Confusion Matrix\n",
      "Predicted     0   1\n",
      "Test               \n",
      "0          4439   2\n",
      "1          1540  19\n",
      "\n",
      "Proportion Table\n",
      "Predicted         0         1\n",
      "Test                         \n",
      "0          0.999550  0.000450\n",
      "1          0.987813  0.012187\n"
     ]
    }
   ],
   "source": [
    "tester(vectorizer)"
   ]
  },
  {
   "cell_type": "markdown",
   "metadata": {},
   "source": [
    "###Classification model with equal sized classes"
   ]
  },
  {
   "cell_type": "code",
   "execution_count": 164,
   "metadata": {
    "collapsed": false
   },
   "outputs": [],
   "source": [
    "salary_data['High'] = 0.0\n",
    "high_mask = salary_data['SalaryNormalized'] >= threshold\n",
    "salary_data.ix[high_mask,'High'] = 1.0"
   ]
  },
  {
   "cell_type": "code",
   "execution_count": 165,
   "metadata": {
    "collapsed": false
   },
   "outputs": [],
   "source": [
    "high = salary_data[salary_data['High']==1]\n",
    "low = salary_data[salary_data['High']!=1]"
   ]
  },
  {
   "cell_type": "code",
   "execution_count": 166,
   "metadata": {
    "collapsed": false
   },
   "outputs": [],
   "source": [
    "sample_high = high.sample(7500, replace=False).copy()\n",
    "sample_low = low.sample(7500, replace=False).copy()\n",
    "equal_sample = sample_high.append(sample_low, ignore_index=False, verify_integrity=True)"
   ]
  },
  {
   "cell_type": "code",
   "execution_count": 167,
   "metadata": {
    "collapsed": false
   },
   "outputs": [],
   "source": [
    "train = equal_sample.sample(0.6*len(equal_sample), replace=False).copy()\n",
    "test = equal_sample[~equal_sample.index.isin(train.index.values)]"
   ]
  },
  {
   "cell_type": "code",
   "execution_count": 168,
   "metadata": {
    "collapsed": false
   },
   "outputs": [],
   "source": [
    "train_x = train['FullDescription']\n",
    "train_y = train['High']\n",
    "\n",
    "test_x = test['FullDescription']\n",
    "test_y = test['High']"
   ]
  },
  {
   "cell_type": "code",
   "execution_count": 169,
   "metadata": {
    "collapsed": false
   },
   "outputs": [
    {
     "name": "stdout",
     "output_type": "stream",
     "text": [
      "Percent Correct\n",
      "77.917\n",
      "\n",
      "Confusion Matrix\n",
      "Predicted     0     1\n",
      "Test                 \n",
      "0          2162   845\n",
      "1           480  2513\n",
      "\n",
      "Proportion Table\n",
      "Predicted         0         1\n",
      "Test                         \n",
      "0          0.718989  0.281011\n",
      "1          0.160374  0.839626\n"
     ]
    }
   ],
   "source": [
    "tester(vectorizer)"
   ]
  },
  {
   "cell_type": "markdown",
   "metadata": {},
   "source": [
    "#### B2. Speculate before running the following analysis whether lemmatization would help improve the accuracy of classification. Now create a classification model after lemmatization. Did the classification accuracy increase relative to B1? Comment on your speculation versus the actual results you obtained."
   ]
  },
  {
   "cell_type": "markdown",
   "metadata": {},
   "source": [
    "We speculated that lemmatization will improve the accuracy of our model because it reduces noise by grouping similar words together. However, below we find performance to be the same or in some cases somewhat lower. The difference is negligible."
   ]
  },
  {
   "cell_type": "code",
   "execution_count": 153,
   "metadata": {
    "collapsed": true
   },
   "outputs": [],
   "source": [
    "# following scikit documentation to lemmatize\n",
    "class LemmaTokenizer(object):\n",
    "    def __init__(self):\n",
    "        self.wnl = WordNetLemmatizer()\n",
    "    def __call__(self, doc):\n",
    "        return [self.wnl.lemmatize(t) for t in word_tokenize(doc)]"
   ]
  },
  {
   "cell_type": "code",
   "execution_count": 154,
   "metadata": {
    "collapsed": true
   },
   "outputs": [],
   "source": [
    "lemma_vectorizer = TfidfVectorizer(min_df=0, smooth_idf=True, strip_accents='unicode', norm='l2', tokenizer=LemmaTokenizer())"
   ]
  },
  {
   "cell_type": "code",
   "execution_count": 155,
   "metadata": {
    "collapsed": false
   },
   "outputs": [
    {
     "name": "stdout",
     "output_type": "stream",
     "text": [
      "Percent Correct\n",
      "78.2\n",
      "\n",
      "Confusion Matrix\n",
      "Predicted     0     1\n",
      "Test                 \n",
      "0          2203   760\n",
      "1           548  2489\n",
      "\n",
      "Proportion Table\n",
      "Predicted         0         1\n",
      "Test                         \n",
      "0          0.743503  0.256497\n",
      "1          0.180441  0.819559\n"
     ]
    }
   ],
   "source": [
    "tester(lemma_vectorizer)"
   ]
  },
  {
   "cell_type": "markdown",
   "metadata": {},
   "source": [
    "#### B3. If you got better results with lemmatization, retain the lemmatized data, else use the original one. Now speculate whether stopwords removal would help increase the accuracy of the model. Take out the stopwords, build a classification model and check the accuracy, and compare with that in B1 & B2.   \n",
    "\n",
    "####Also show the top 10 words (excluding stopwords) that are most indicative of (i) high salary, and (ii) low salary."
   ]
  },
  {
   "cell_type": "markdown",
   "metadata": {},
   "source": [
    "We speculated that removing stop words should improve accuracy because it removes words that are common and uninformative. Running the model without stop words on the 50/50 split dataset without lemmatization did improve accuracy slightly. Below is a summary of the mode with stop words removed."
   ]
  },
  {
   "cell_type": "code",
   "execution_count": 156,
   "metadata": {
    "collapsed": true
   },
   "outputs": [],
   "source": [
    "stop_vectorizer = \\\n",
    "TfidfVectorizer(min_df=0, smooth_idf=True, strip_accents='unicode',\\\n",
    "                norm='l2', stop_words=\"english\")"
   ]
  },
  {
   "cell_type": "code",
   "execution_count": 157,
   "metadata": {
    "collapsed": false
   },
   "outputs": [
    {
     "name": "stdout",
     "output_type": "stream",
     "text": [
      "Percent Correct\n",
      "78.383\n",
      "\n",
      "Confusion Matrix\n",
      "Predicted     0     1\n",
      "Test                 \n",
      "0          2170   793\n",
      "1           504  2533\n",
      "\n",
      "Proportion Table\n",
      "Predicted         0         1\n",
      "Test                         \n",
      "0          0.732366  0.267634\n",
      "1          0.165953  0.834047\n"
     ]
    }
   ],
   "source": [
    "tester(stop_vectorizer)"
   ]
  },
  {
   "cell_type": "markdown",
   "metadata": {},
   "source": [
    "###Top Ten Words (using Coef)"
   ]
  },
  {
   "cell_type": "markdown",
   "metadata": {},
   "source": [
    "Below are the top ten words for low and high salaries, respectively. What we did was run 2 models: one for predicting low salaries and one for predicting high salaries, so that we could get the words with the largest coefficients from the Naïve Bayes model. These coefficients tell us which tokens are most indicative of each class."
   ]
  },
  {
   "cell_type": "code",
   "execution_count": 219,
   "metadata": {
    "collapsed": false
   },
   "outputs": [
    {
     "name": "stdout",
     "output_type": "stream",
     "text": [
      "Top Ten Words indicative of a low salary\n",
      "company manager working skills team business role work sales experience\n",
      "\n",
      "Top Ten words indicative of a high salary\n",
      "design client development team manager role project management experience business\n"
     ]
    }
   ],
   "source": [
    "# low salary words\n",
    "salary_data['Low'] = 0.0\n",
    "low_mask = salary_data['SalaryNormalized'] <= threshold\n",
    "salary_data.ix[low_mask,'Low'] = 1.0\n",
    "\n",
    "high = salary_data[salary_data['High']==1]\n",
    "low = salary_data[salary_data['High']!=1]\n",
    "\n",
    "np.random.seed(1234567)\n",
    "sample_high = high.sample(7500, replace=False).copy()\n",
    "sample_low = low.sample(7500, replace=False).copy()\n",
    "equal_sample = sample_high.append(sample_low, ignore_index=False, verify_integrity=True)\n",
    "\n",
    "train = equal_sample.sample(0.6*len(equal_sample), replace=False).copy()\n",
    "test = equal_sample[~equal_sample.index.isin(train.index.values)]\n",
    "\n",
    "train_xB3 = train['FullDescription']\n",
    "train_yB3 = train['Low']\n",
    "test_xB3 = test['FullDescription']\n",
    "test_yB3 = test['Low']\n",
    "\n",
    "X_transformB3 =stop_vectorizer.fit_transform(train_xB3)\n",
    "X_testB3 =stop_vectorizer.transform(test_xB3)\n",
    "\n",
    "nb_classifierB3 = MultinomialNB().fit(X_transformB3, train_yB3)\n",
    "y_nb_predictedB3 = nb_classifierB3.predict(X_testB3)\n",
    "\n",
    "N = 10\n",
    "vocabulary = np.array([t for t, i in sorted(stop_vectorizer.vocabulary_.iteritems(), key=itemgetter(1))])\n",
    "print('Top Ten Words indicative of a low salary')\n",
    "topNlows = np.argsort(nb_classifierB3.coef_[0])[-N:]\n",
    "print(\" \".join(vocabulary[topNlows]))\n",
    "\n",
    "# high salary words\n",
    "train_xB3 = train['FullDescription']\n",
    "train_yB3 = train['High']\n",
    "test_xB3 = test['FullDescription']\n",
    "test_yB3 = test['High']\n",
    "\n",
    "X_transformB3 = stop_vectorizer.fit_transform(train_xB3)\n",
    "X_testB3 = stop_vectorizer.transform(test_xB3)\n",
    "\n",
    "nb_classifierB3 = MultinomialNB().fit(X_transformB3, train_yB3)\n",
    "y_nb_predictedB3 = nb_classifierB3.predict(X_testB3)\n",
    "\n",
    "N = 10\n",
    "vocabulary = np.array([t for t, i in sorted(stop_vectorizer.vocabulary_.iteritems(), key=itemgetter(1))])\n",
    "print('\\nTop Ten words indicative of a high salary')\n",
    "bottomNlows = np.argsort(nb_classifierB3.coef_[0])[-N:]\n",
    "print(\" \".join(vocabulary[bottomNlows]))"
   ]
  },
  {
   "cell_type": "markdown",
   "metadata": {},
   "source": [
    "###Top Ten Words (Log Probability Ratio)"
   ]
  },
  {
   "cell_type": "markdown",
   "metadata": {},
   "source": [
    "Seeing that there was an overlap in the words using the coefficients method described above, we decided to try using log probability ratios to determine the tokens that are likely to be found in one class but not the other. Below are the ten words most indicative of higher and lower salaries using this method. We used the log probability ratio between the high salary class and the low salary class for each token from the Naïve Bayes function in Python. So for example, if we have a token that has a high probability of being in the high class and a low probability of being in the low class, we can say that it is indicative of the high class and vice versa."
   ]
  },
  {
   "cell_type": "code",
   "execution_count": 230,
   "metadata": {
    "collapsed": true
   },
   "outputs": [],
   "source": [
    "stop_vectorizer = \\\n",
    "TfidfVectorizer(min_df=0, smooth_idf=True, strip_accents='unicode',\\\n",
    "                norm='l2', stop_words=\"english\")\n",
    "\n",
    "stop_train_x = stop_vectorizer.fit_transform(train_x)\n",
    "stop_test_x = stop_vectorizer.transform(test_x)\n",
    "stop_nb_classifier = MultinomialNB().fit(stop_train_x, train_y)"
   ]
  },
  {
   "cell_type": "code",
   "execution_count": 231,
   "metadata": {
    "collapsed": false
   },
   "outputs": [
    {
     "name": "stdout",
     "output_type": "stream",
     "text": [
      "Words most indicative of a lower salary: \n",
      "adecco teaching teachers chef hgv assistant cleaning asbestos sous partie\n",
      "\n",
      "Words most indicative of a higher salary:\n",
      "architect locum ruby dynamics architecture ssis scrum emea huxley unified\n"
     ]
    }
   ],
   "source": [
    "class0log = stop_nb_classifier.feature_log_prob_[0]\n",
    "class1log = stop_nb_classifier.feature_log_prob_[1]\n",
    "\n",
    "class1log_exp = []\n",
    "\n",
    "for i in class1log:\n",
    "    class1log_exp.append(math.exp(i))\n",
    "\n",
    "class0log_exp = []\n",
    "for j in class0log:\n",
    "    class0log_exp.append(math.exp(j))\n",
    "\n",
    "ratio = []\n",
    "for index, var in enumerate(class1log_exp):\n",
    "    ratio.append(class0log_exp[index]/var)\n",
    "\n",
    "vocabulary = np.array([t for t, i in sorted(stop_vectorizer.vocabulary_.iteritems(), key=itemgetter(1))])\n",
    "\n",
    "topN1 = np.argsort(ratio)[-N:]\n",
    "print('Words most indicative of a lower salary: ')\n",
    "print(\" \".join(vocabulary[topN1]))\n",
    "bottomN1 = np.argsort(ratio)[:N]\n",
    "print('\\nWords most indicative of a higher salary:')\n",
    "print(\" \".join(vocabulary[bottomN1]))"
   ]
  },
  {
   "cell_type": "markdown",
   "metadata": {},
   "source": [
    "#### B4. Use the job descriptions without lemmatiztion and stopword removal. Add parts-of-speech bigrams to the bag-of-words, and run a new classification model. Does the accuracy increase over the results in B1?"
   ]
  },
  {
   "cell_type": "markdown",
   "metadata": {},
   "source": [
    "Below is a confusion matrix showing prediction results using POS Bi-Grams as tokens. The accuracy actually dropped significantly using POS bi-grams. Despite the drop in accuracy, it was impressive we were able to achieve a decent accuracy using just POS Bi-Grams.\n",
    "\n",
    "Note: We checked with Sam (TA) and he confirmed we should use just POS Bi-Grams for our bag of words."
   ]
  },
  {
   "cell_type": "code",
   "execution_count": 232,
   "metadata": {
    "collapsed": false
   },
   "outputs": [],
   "source": [
    "class posBigram(object):\n",
    "    def __init__(self):\n",
    "        pass\n",
    "    def __call__(self,doc):\n",
    "      return nltk.Text(nltk.bigrams([i[1] for i in nltk.pos_tag(nltk.word_tokenize(doc))]))"
   ]
  },
  {
   "cell_type": "code",
   "execution_count": 233,
   "metadata": {
    "collapsed": true
   },
   "outputs": [],
   "source": [
    "pos_bigram_vectorizer = TfidfVectorizer(min_df=0, smooth_idf=True, strip_accents='unicode', norm='l2', tokenizer=posBigram())"
   ]
  },
  {
   "cell_type": "code",
   "execution_count": 234,
   "metadata": {
    "collapsed": false
   },
   "outputs": [],
   "source": [
    "pos_bigram_train_x = pos_bigram_vectorizer.fit_transform(train_x)\n",
    "pos_bigram_nb_classifier = MultinomialNB().fit(pos_bigram_train_x, train_y)"
   ]
  },
  {
   "cell_type": "code",
   "execution_count": 235,
   "metadata": {
    "collapsed": true
   },
   "outputs": [],
   "source": [
    "pos_bigram_test_x = pos_bigram_vectorizer.transform(test_x)\n",
    "pos_bigram_y_nb_predicted = pos_bigram_nb_classifier.predict(pos_bigram_test_x)"
   ]
  },
  {
   "cell_type": "code",
   "execution_count": 236,
   "metadata": {
    "collapsed": false
   },
   "outputs": [
    {
     "data": {
      "text/html": [
       "<div>\n",
       "<table border=\"1\" class=\"dataframe\">\n",
       "  <thead>\n",
       "    <tr style=\"text-align: right;\">\n",
       "      <th>Predicted</th>\n",
       "      <th>0.0</th>\n",
       "      <th>1.0</th>\n",
       "    </tr>\n",
       "    <tr>\n",
       "      <th>Actual</th>\n",
       "      <th></th>\n",
       "      <th></th>\n",
       "    </tr>\n",
       "  </thead>\n",
       "  <tbody>\n",
       "    <tr>\n",
       "      <th>0</th>\n",
       "      <td>1779</td>\n",
       "      <td>1228</td>\n",
       "    </tr>\n",
       "    <tr>\n",
       "      <th>1</th>\n",
       "      <td>911</td>\n",
       "      <td>2082</td>\n",
       "    </tr>\n",
       "  </tbody>\n",
       "</table>\n",
       "</div>"
      ],
      "text/plain": [
       "Predicted     0     1\n",
       "Actual               \n",
       "0          1779  1228\n",
       "1           911  2082"
      ]
     },
     "execution_count": 236,
     "metadata": {},
     "output_type": "execute_result"
    }
   ],
   "source": [
    "pos_bigram_predict_y = Series(pos_bigram_y_nb_predicted).reset_index()\n",
    "pos_bigram_predict_y = pos_bigram_predict_y[0]\n",
    "pos_bigram_df = pd.DataFrame()\n",
    "pos_bigram_df['Predicted'] = pos_bigram_predict_y\n",
    "pos_bigram_df['Actual'] = test_y.reset_index()['High']\n",
    "pd.crosstab(index=pos_bigram_df['Actual'], columns=pos_bigram_df['Predicted'])"
   ]
  },
  {
   "cell_type": "code",
   "execution_count": 237,
   "metadata": {
    "collapsed": false
   },
   "outputs": [
    {
     "data": {
      "text/plain": [
       "0.64349999999999996"
      ]
     },
     "execution_count": 237,
     "metadata": {},
     "output_type": "execute_result"
    }
   ],
   "source": [
    "(pos_bigram_df['Predicted'] == pos_bigram_df['Actual']).mean()"
   ]
  }
 ],
 "metadata": {
  "kernelspec": {
   "display_name": "Python 2",
   "language": "python",
   "name": "python2"
  },
  "language_info": {
   "codemirror_mode": {
    "name": "ipython",
    "version": 2
   },
   "file_extension": ".py",
   "mimetype": "text/x-python",
   "name": "python",
   "nbconvert_exporter": "python",
   "pygments_lexer": "ipython2",
   "version": "2.7.10"
  },
  "notify_time": "5"
 },
 "nbformat": 4,
 "nbformat_minor": 0
}
