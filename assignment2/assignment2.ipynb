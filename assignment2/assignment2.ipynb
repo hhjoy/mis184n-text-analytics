{
 "cells": [
  {
   "cell_type": "markdown",
   "metadata": {},
   "source": [
    "# Text Analytics Group Assignment 2"
   ]
  },
  {
   "cell_type": "markdown",
   "metadata": {},
   "source": [
    "The data for this assignment is the Yelp Restaurant Review Data. \n",
    "This Yelp dataset has information on restaurants (e.g., type of food, price range, etc.) as well as reviews written by patrons. The output variable is the star rating (1-5). It will be best to convert this rating to high (say, ratings of 4 & 5) and low (1, 2, 3). "
   ]
  },
  {
   "cell_type": "markdown",
   "metadata": {},
   "source": [
    "### Task A. Ignore the text (reviews) and run a classification model with the numeric data (you can use standard methods like logistic regression, k-nearest neighbors or anything else). What is the best accuracy of your model?"
   ]
  },
  {
   "cell_type": "markdown",
   "metadata": {},
   "source": [
    "Logistic Regression and KNN performed similarly with test accuracies of 69.5%."
   ]
  },
  {
   "cell_type": "code",
   "execution_count": 81,
   "metadata": {
    "collapsed": false
   },
   "outputs": [
    {
     "name": "stdout",
     "output_type": "stream",
     "text": [
      "Populating the interactive namespace from numpy and matplotlib\n"
     ]
    },
    {
     "name": "stderr",
     "output_type": "stream",
     "text": [
      "WARNING: pylab import has clobbered these variables: ['sample', 'random', 'test', 'var']\n",
      "`%matplotlib` prevents importing * from pylab and numpy\n"
     ]
    }
   ],
   "source": [
    "import pandas as pd\n",
    "import numpy as np\n",
    "from pandas import Series\n",
    "from pandas import DataFrame\n",
    "from patsy import dmatrices\n",
    "from sklearn.cross_validation import train_test_split,StratifiedShuffleSplit,StratifiedKFold\n",
    "from sklearn.linear_model import LogisticRegression\n",
    "from sklearn import metrics\n",
    "from sklearn import neighbors\n",
    "import random\n",
    "from sklearn.feature_extraction.text import TfidfVectorizer\n",
    "from sklearn.naive_bayes import MultinomialNB\n",
    "import scipy.sparse\n",
    "import matplotlib.pyplot as plt\n",
    "%pylab inline\n",
    "import operator\n",
    "import sklearn.cluster\n",
    "from nltk import word_tokenize\n",
    "from nltk import pos_tag\n",
    "from nltk.corpus import stopwords\n",
    "import itertools\n",
    "import nltk\n",
    "from operator import itemgetter"
   ]
  },
  {
   "cell_type": "code",
   "execution_count": 5,
   "metadata": {
    "collapsed": false
   },
   "outputs": [],
   "source": [
    "yelp = pd.read_csv(\"Yelp Data Restaurant Reviews Ratings.csv\")"
   ]
  },
  {
   "cell_type": "code",
   "execution_count": 6,
   "metadata": {
    "collapsed": false
   },
   "outputs": [],
   "source": [
    "# create output variable 'high'\n",
    "high_mask = yelp['stars'] > 3\n",
    "yelp['High'] = 0\n",
    "yelp.ix[high_mask, 'High'] = 1"
   ]
  },
  {
   "cell_type": "code",
   "execution_count": 7,
   "metadata": {
    "collapsed": false
   },
   "outputs": [],
   "source": [
    "train = yelp.sample(int(0.7*len(yelp)),replace=False).copy()\n",
    "test = yelp[~yelp.index.isin(train.index.values)].copy()"
   ]
  },
  {
   "cell_type": "code",
   "execution_count": 8,
   "metadata": {
    "collapsed": false
   },
   "outputs": [],
   "source": [
    "train_x = train.drop([\"stars\",\"Review\",\"High\"], axis=1).copy()\n",
    "train_y = train['High']\n",
    "test_x = test.drop([\"stars\",\"Review\",\"High\"], axis=1).copy()\n",
    "test_y = test['High']"
   ]
  },
  {
   "cell_type": "code",
   "execution_count": 14,
   "metadata": {
    "collapsed": true
   },
   "outputs": [],
   "source": [
    "# function for accuracy and confusion matrix output\n",
    "def confusion_matrix(predicted, actual):\n",
    "    print \"Percent Correct\\n\", round((predicted==actual).mean()*100, 3)\n",
    "    print \"\\nConfusion Matrix\\n\", pd.crosstab(index=actual,columns=predicted)\n",
    "    print \"\\nProportion Table\\n\", pd.crosstab(index=actual,columns=predicted).apply(lambda r: r/r.sum(), axis=1)"
   ]
  },
  {
   "cell_type": "markdown",
   "metadata": {},
   "source": [
    "####Logistic Regression"
   ]
  },
  {
   "cell_type": "code",
   "execution_count": 9,
   "metadata": {
    "collapsed": false
   },
   "outputs": [],
   "source": [
    "logistic_model = LogisticRegression()\n",
    "logistic_result = logistic_model.fit(train_x, train_y)"
   ]
  },
  {
   "cell_type": "code",
   "execution_count": 15,
   "metadata": {
    "collapsed": false
   },
   "outputs": [
    {
     "name": "stdout",
     "output_type": "stream",
     "text": [
      "Percent Correct\n",
      "67.891\n",
      "\n",
      "Confusion Matrix\n",
      "col_0    0     1\n",
      "High            \n",
      "0      233  4328\n",
      "1      167  9271\n",
      "\n",
      "Proportion Table\n",
      "col_0         0         1\n",
      "High                     \n",
      "0      0.051085  0.948915\n",
      "1      0.017694  0.982306\n"
     ]
    }
   ],
   "source": [
    "logistic_train_prediction = logistic_model.predict(train_x)\n",
    "confusion_matrix(logistic_train_prediction, train_y) # print training accuracy"
   ]
  },
  {
   "cell_type": "code",
   "execution_count": 16,
   "metadata": {
    "collapsed": false
   },
   "outputs": [
    {
     "name": "stdout",
     "output_type": "stream",
     "text": [
      "Percent Correct\n",
      "69.55\n",
      "\n",
      "Confusion Matrix\n",
      "col_0    0     1\n",
      "High            \n",
      "0      120  1765\n",
      "1       62  4053\n",
      "\n",
      "Proportion Table\n",
      "col_0         0         1\n",
      "High                     \n",
      "0      0.063660  0.936340\n",
      "1      0.015067  0.984933\n"
     ]
    }
   ],
   "source": [
    "logistic_test_prediction = logistic_model.predict(test_x)\n",
    "confusion_matrix(logistic_test_prediction, test_y) # print test accuracy"
   ]
  },
  {
   "cell_type": "markdown",
   "metadata": {},
   "source": [
    "####KNN"
   ]
  },
  {
   "cell_type": "code",
   "execution_count": 13,
   "metadata": {
    "collapsed": false
   },
   "outputs": [],
   "source": [
    "train_accuracies = {}\n",
    "test_accuracies = {}\n",
    "\n",
    "for i in range(1, 30, 1): # loop through different values of k\n",
    "    knn_model = neighbors.KNeighborsClassifier(n_neighbors=i, weights='uniform', p=2)\n",
    "    knn_result = knn_model.fit(train_x, train_y)\n",
    "    knn_train_prediction = knn_model.predict(train_x)\n",
    "    train_accuracies[i] = metrics.accuracy_score(train_y, knn_train_prediction)\n",
    "    knn_test_prediction = knn_model.predict(test_x)\n",
    "    test_accuracies[i] = metrics.accuracy_score(test_y, knn_test_prediction)"
   ]
  },
  {
   "cell_type": "code",
   "execution_count": 12,
   "metadata": {
    "collapsed": false
   },
   "outputs": [
    {
     "data": {
      "text/plain": [
       "[<matplotlib.lines.Line2D at 0x180b8588>]"
      ]
     },
     "execution_count": 12,
     "metadata": {},
     "output_type": "execute_result"
    },
    {
     "data": {
      "image/png": "[encoded data removed]",
      "text/plain": [
       "<matplotlib.figure.Figure at 0x3930a90>"
      ]
     },
     "metadata": {},
     "output_type": "display_data"
    }
   ],
   "source": [
    "plt.plot(train_accuracies.values(), marker=\"o\", linestyle=\"--\")\n",
    "plt.plot(test_accuracies.values(), marker=\"o\", linestyle=\"--\")"
   ]
  },
  {
   "cell_type": "code",
   "execution_count": 42,
   "metadata": {
    "collapsed": false
   },
   "outputs": [
    {
     "data": {
      "text/plain": [
       "25"
      ]
     },
     "execution_count": 42,
     "metadata": {},
     "output_type": "execute_result"
    }
   ],
   "source": [
    "max(test_accuracies.iteritems(), key=operator.itemgetter(1))[0]"
   ]
  },
  {
   "cell_type": "code",
   "execution_count": 43,
   "metadata": {
    "collapsed": false
   },
   "outputs": [
    {
     "data": {
      "text/plain": [
       "0.69519251375098223"
      ]
     },
     "execution_count": 43,
     "metadata": {},
     "output_type": "execute_result"
    }
   ],
   "source": [
    "train_accuracies[25]"
   ]
  },
  {
   "cell_type": "code",
   "execution_count": 44,
   "metadata": {
    "collapsed": false
   },
   "outputs": [
    {
     "data": {
      "text/plain": [
       "0.69519251375098223"
      ]
     },
     "execution_count": 44,
     "metadata": {},
     "output_type": "execute_result"
    }
   ],
   "source": [
    "train_accuracies[25]"
   ]
  },
  {
   "cell_type": "markdown",
   "metadata": {},
   "source": [
    "###Task B. Perform a supervised classification on a subset of the corpus using the reviews only. You can write your code in Python or R. What accuracy do you get from this text mining exercise?"
   ]
  },
  {
   "cell_type": "markdown",
   "metadata": {},
   "source": [
    "Running Naive Bayes on a random sample of the text data gave us a test accuracy of 68.87%. Seeing that our data is highly imbalanced, we tried undersampling the dataset to ensure a 50/50 split of the classes. This increased accuracy to 80%. Looking at the confusion matrices, we can see that undersampling made the model better at predicting 0's."
   ]
  },
  {
   "cell_type": "markdown",
   "metadata": {},
   "source": [
    "####Random Sampling"
   ]
  },
  {
   "cell_type": "code",
   "execution_count": 20,
   "metadata": {
    "collapsed": true
   },
   "outputs": [],
   "source": [
    "np.random.seed(1234567)\n",
    "train = yelp.sample(int(len(yelp)*0.7), replace=False)"
   ]
  },
  {
   "cell_type": "code",
   "execution_count": 21,
   "metadata": {
    "collapsed": false
   },
   "outputs": [],
   "source": [
    "test = yelp[~yelp.index.isin(train.index.values)]"
   ]
  },
  {
   "cell_type": "code",
   "execution_count": 22,
   "metadata": {
    "collapsed": true
   },
   "outputs": [],
   "source": [
    "train_x = train['Review']\n",
    "train_y = train['High']\n",
    "test_x = test['Review']\n",
    "test_y = test['High']"
   ]
  },
  {
   "cell_type": "code",
   "execution_count": 27,
   "metadata": {
    "collapsed": false
   },
   "outputs": [],
   "source": [
    "v = TfidfVectorizer(min_df=0,smooth_idf=True, strip_accents='unicode', norm='l2')"
   ]
  },
  {
   "cell_type": "code",
   "execution_count": 28,
   "metadata": {
    "collapsed": true
   },
   "outputs": [],
   "source": [
    "def text_classification():\n",
    "    x_train = v.fit_transform(train_x)\n",
    "    x_test = v.transform(test_x)\n",
    "    \n",
    "    nb_classifier = MultinomialNB().fit(x_train, train_y)\n",
    "    train_prediction = nb_classifier.predict(x_train)\n",
    "    test_prediction = nb_classifier.predict(x_test)\n",
    "    print(\"Train:\")\n",
    "    confusion_matrix(train_prediction, train_y)\n",
    "    print(\"\\nTest:\")\n",
    "    confusion_matrix(test_prediction, test_y)"
   ]
  },
  {
   "cell_type": "code",
   "execution_count": 29,
   "metadata": {
    "collapsed": false
   },
   "outputs": [
    {
     "name": "stdout",
     "output_type": "stream",
     "text": [
      "Train:\n",
      "Percent Correct\n",
      "70.526\n",
      "\n",
      "Confusion Matrix\n",
      "col_0    0     1\n",
      "High            \n",
      "0      368  4124\n",
      "1        2  9505\n",
      "\n",
      "Proportion Table\n",
      "col_0         0         1\n",
      "High                     \n",
      "0      0.081923  0.918077\n",
      "1      0.000210  0.999790\n",
      "\n",
      "Test:\n",
      "Percent Correct\n",
      "68.867\n",
      "\n",
      "Confusion Matrix\n",
      "col_0   0     1\n",
      "High           \n",
      "0      89  1865\n",
      "1       3  4043\n",
      "\n",
      "Proportion Table\n",
      "col_0         0         1\n",
      "High                     \n",
      "0      0.045548  0.954452\n",
      "1      0.000741  0.999259\n"
     ]
    }
   ],
   "source": [
    "text_classification()"
   ]
  },
  {
   "cell_type": "markdown",
   "metadata": {
    "collapsed": true
   },
   "source": [
    "####Undersampling data set to ensure 50/50 split"
   ]
  },
  {
   "cell_type": "code",
   "execution_count": 36,
   "metadata": {
    "collapsed": false
   },
   "outputs": [
    {
     "data": {
      "text/plain": [
       "1    13553\n",
       "0     6446\n",
       "dtype: int64"
      ]
     },
     "execution_count": 36,
     "metadata": {},
     "output_type": "execute_result"
    }
   ],
   "source": [
    "yelp['High'].value_counts() # imbalanced data set"
   ]
  },
  {
   "cell_type": "code",
   "execution_count": 30,
   "metadata": {
    "collapsed": true
   },
   "outputs": [],
   "source": [
    "highs = yelp[yelp['High']==1]\n",
    "lows = yelp[yelp['High']==0]"
   ]
  },
  {
   "cell_type": "code",
   "execution_count": 31,
   "metadata": {
    "collapsed": false
   },
   "outputs": [],
   "source": [
    "sample_high = highs.sample(len(lows),replace=False).copy()"
   ]
  },
  {
   "cell_type": "code",
   "execution_count": 32,
   "metadata": {
    "collapsed": false
   },
   "outputs": [],
   "source": [
    "sample = sample_high.append(lows, ignore_index=True)"
   ]
  },
  {
   "cell_type": "code",
   "execution_count": 33,
   "metadata": {
    "collapsed": true
   },
   "outputs": [],
   "source": [
    "train = sample.sample(int(0.7*len(sample)),replace=False).copy()\n",
    "test = sample[~sample.index.isin(train.index.values)].copy()"
   ]
  },
  {
   "cell_type": "code",
   "execution_count": 34,
   "metadata": {
    "collapsed": true
   },
   "outputs": [],
   "source": [
    "train_x = train['Review']\n",
    "train_y = train['High']\n",
    "test_x = test['Review']\n",
    "test_y = test['High']"
   ]
  },
  {
   "cell_type": "code",
   "execution_count": 35,
   "metadata": {
    "collapsed": false
   },
   "outputs": [
    {
     "name": "stdout",
     "output_type": "stream",
     "text": [
      "Train:\n",
      "Percent Correct\n",
      "89.351\n",
      "\n",
      "Confusion Matrix\n",
      "col_0     0     1\n",
      "High             \n",
      "0      4066   405\n",
      "1       556  3997\n",
      "\n",
      "Proportion Table\n",
      "col_0         0         1\n",
      "High                     \n",
      "0      0.909416  0.090584\n",
      "1      0.122117  0.877883\n",
      "\n",
      "Test:\n",
      "Percent Correct\n",
      "80.455\n",
      "\n",
      "Confusion Matrix\n",
      "col_0     0     1\n",
      "High             \n",
      "0      1643   332\n",
      "1       424  1469\n",
      "\n",
      "Proportion Table\n",
      "col_0         0         1\n",
      "High                     \n",
      "0      0.831899  0.168101\n",
      "1      0.223983  0.776017\n"
     ]
    }
   ],
   "source": [
    "text_classification()"
   ]
  },
  {
   "cell_type": "markdown",
   "metadata": {},
   "source": [
    "###Task C. Combine the numeric data and the text classification model (in task B) to create a “hybrid” model. It is your task to figure out how to do this. Now run this hybrid classification model and compare the results with those in A and B. "
   ]
  },
  {
   "cell_type": "markdown",
   "metadata": {},
   "source": [
    "The test accuracy of the hybrid model is 79%, better than the non-text model (69%), but slightly worse than the text model (80%). The hybrid model does a little better than the text model at predicting 1's. "
   ]
  },
  {
   "cell_type": "code",
   "execution_count": 37,
   "metadata": {
    "collapsed": false
   },
   "outputs": [],
   "source": [
    "text_train = v.fit_transform(train_x) # just the reviews\n",
    "numeric_train = train.drop([\"Review\", \"stars\", \"High\"], axis=1).copy()\n",
    "numeric_sparse_train = scipy.sparse.csr_matrix(numeric_train.to_sparse())\n",
    "combined_train = scipy.sparse.hstack([text_train, numeric_sparse_train]) # combining numeric and text"
   ]
  },
  {
   "cell_type": "code",
   "execution_count": 38,
   "metadata": {
    "collapsed": false
   },
   "outputs": [],
   "source": [
    "text_test = v.transform(test_x) # repeating above for test\n",
    "numeric_test = test.drop([\"Review\", \"stars\", \"High\"], axis=1).copy()\n",
    "numeric_sparse_test = scipy.sparse.csr_matrix(numeric_test.to_sparse())\n",
    "combined_test = scipy.sparse.hstack([text_test, numeric_sparse_test])"
   ]
  },
  {
   "cell_type": "code",
   "execution_count": 40,
   "metadata": {
    "collapsed": false
   },
   "outputs": [
    {
     "name": "stdout",
     "output_type": "stream",
     "text": [
      "Train:\n",
      "Percent Correct\n",
      "87.81\n",
      "\n",
      "Confusion Matrix\n",
      "col_0     0     1\n",
      "High             \n",
      "0      3905   566\n",
      "1       534  4019\n",
      "\n",
      "Proportion Table\n",
      "col_0         0         1\n",
      "High                     \n",
      "0      0.873406  0.126594\n",
      "1      0.117285  0.882715\n",
      "\n",
      "Test:\n",
      "Percent Correct\n",
      "79.162\n",
      "\n",
      "Confusion Matrix\n",
      "col_0     0     1\n",
      "High             \n",
      "0      1553   422\n",
      "1       384  1509\n",
      "\n",
      "Proportion Table\n",
      "col_0         0         1\n",
      "High                     \n",
      "0      0.786329  0.213671\n",
      "1      0.202853  0.797147\n"
     ]
    }
   ],
   "source": [
    "nb_classifier = MultinomialNB().fit(combined_train, train_y)\n",
    "train_prediction = nb_classifier.predict(combined_train)\n",
    "test_prediction = nb_classifier.predict(combined_test)\n",
    "print(\"Train:\")\n",
    "confusion_matrix(train_prediction, train_y)\n",
    "print(\"\\nTest:\")\n",
    "confusion_matrix(test_prediction, test_y)"
   ]
  },
  {
   "cell_type": "markdown",
   "metadata": {},
   "source": [
    "### Task D. Use unsupervised sentiment analysis on the reviews (with SentiStrength or any other tool) and use the sentiment score to predict high/low rating. Compare and contrast the results of tasks B and D. What can you conclude from your analysis?"
   ]
  },
  {
   "cell_type": "markdown",
   "metadata": {},
   "source": [
    "The results were poor. The accuracy was 58.47%, which is just slightly better than random guessing. Unsupervised sentiment analysis by itself does not seem to be a good way to predict rating."
   ]
  },
  {
   "cell_type": "code",
   "execution_count": 41,
   "metadata": {
    "collapsed": false
   },
   "outputs": [
    {
     "name": "stderr",
     "output_type": "stream",
     "text": [
      "C:\\Users\\Julia Wu\\Anaconda\\lib\\site-packages\\xlrd\\xlsx.py:246: PendingDeprecationWarning: This method will be removed in future versions.  Use 'tree.iter()' or 'list(tree.iter())' instead.\n",
      "  for elem in self.tree.getiterator():\n",
      "C:\\Users\\Julia Wu\\Anaconda\\lib\\site-packages\\xlrd\\xlsx.py:292: PendingDeprecationWarning: This method will be removed in future versions.  Use 'tree.iter()' or 'list(tree.iter())' instead.\n",
      "  for elem in self.tree.getiterator():\n"
     ]
    }
   ],
   "source": [
    "sentiment = pd.read_excel(\"SentiStrength output.xlsx\")"
   ]
  },
  {
   "cell_type": "code",
   "execution_count": 42,
   "metadata": {
    "collapsed": false,
    "scrolled": true
   },
   "outputs": [],
   "source": [
    "sentiment['total_sent'] = sentiment['pos_sent'] + sentiment['neg_sent']"
   ]
  },
  {
   "cell_type": "code",
   "execution_count": 43,
   "metadata": {
    "collapsed": false
   },
   "outputs": [],
   "source": [
    "sentiment['Actual'] = yelp['High']"
   ]
  },
  {
   "cell_type": "code",
   "execution_count": 44,
   "metadata": {
    "collapsed": false
   },
   "outputs": [],
   "source": [
    "pos_sent_mask = sentiment['total_sent'] > 0\n",
    "sentiment['Predicted'] = 0\n",
    "sentiment.ix[pos_sent_mask, 'Predicted'] = 1"
   ]
  },
  {
   "cell_type": "code",
   "execution_count": 46,
   "metadata": {
    "collapsed": false
   },
   "outputs": [
    {
     "name": "stdout",
     "output_type": "stream",
     "text": [
      "Percent Correct\n",
      "58.471\n",
      "\n",
      "Confusion Matrix\n",
      "Predicted     0     1\n",
      "Actual               \n",
      "0          2354  4092\n",
      "1          4213  9339\n",
      "\n",
      "Proportion Table\n",
      "Predicted         0         1\n",
      "Actual                       \n",
      "0          0.365188  0.634812\n",
      "1          0.310877  0.689123\n"
     ]
    }
   ],
   "source": [
    "confusion_matrix(sentiment['Predicted'], sentiment['Actual'])"
   ]
  },
  {
   "cell_type": "markdown",
   "metadata": {},
   "source": [
    "### Task E. Use unsupervised clustering on the text. Does clustering achieve “good” separation between high and low rated restaurants? How can you explain the result?"
   ]
  },
  {
   "cell_type": "markdown",
   "metadata": {},
   "source": [
    "Unsupervised clustering did better than unsupervised sentiment analysis with an accuracy of 60%. This makes sense because we used the document term matrix and the type of words people use can be indicative of what they think about the restaurant. Sentiment, on the other hand, can be difficult to gauge."
   ]
  },
  {
   "cell_type": "code",
   "execution_count": 47,
   "metadata": {
    "collapsed": true
   },
   "outputs": [],
   "source": [
    "DTMReviews = v.fit_transform(yelp['Review'])"
   ]
  },
  {
   "cell_type": "code",
   "execution_count": 48,
   "metadata": {
    "collapsed": false
   },
   "outputs": [],
   "source": [
    "cluster = sklearn.cluster.KMeans(n_clusters=2, random_state=1)\n",
    "cluster_out = cluster.fit(DTMReviews)"
   ]
  },
  {
   "cell_type": "code",
   "execution_count": 50,
   "metadata": {
    "collapsed": false
   },
   "outputs": [],
   "source": [
    "cluster_out = Series(cluster_out.labels_)"
   ]
  },
  {
   "cell_type": "code",
   "execution_count": 63,
   "metadata": {
    "collapsed": true
   },
   "outputs": [],
   "source": [
    "yelp['Cluster_Predicted'] = cluster_out"
   ]
  },
  {
   "cell_type": "code",
   "execution_count": 64,
   "metadata": {
    "collapsed": false
   },
   "outputs": [
    {
     "name": "stdout",
     "output_type": "stream",
     "text": [
      "Percent Correct\n",
      "59.823\n",
      "\n",
      "Confusion Matrix\n",
      "Cluster_Predicted     0     1\n",
      "High                         \n",
      "0                  3521  2925\n",
      "1                  5110  8443\n",
      "\n",
      "Proportion Table\n",
      "Cluster_Predicted         0         1\n",
      "High                                 \n",
      "0                  0.546230  0.453770\n",
      "1                  0.377038  0.622962\n"
     ]
    }
   ],
   "source": [
    "confusion_matrix(yelp['Cluster_Predicted'], yelp['High'])"
   ]
  },
  {
   "cell_type": "markdown",
   "metadata": {},
   "source": [
    "### Task F. What are the top 5 “attributes” of a restaurant that are associated with (i) high and (ii) low ratings?"
   ]
  },
  {
   "cell_type": "markdown",
   "metadata": {},
   "source": [
    "Below we find the top 5 attributes/nouns associated with restaurants with high and low ratings. The attributes discussed are fairly similar regardless of whether it is a high or low rating and consist of things like the 'food', 'place', 'service', and 'restaurant'. It is the words used to describe these nouns that differ. Following what we did in assignment 1, we decided to use log probability ratios to find words that are likely to be found in one class but not the other. Words like 'gem', 'amazing', 'perfect', 'windsor', and 'fantastic' described attributes of restaurants with high ratings and words like 'worse', 'mediocre', 'tasteless', 'worst', and 'terrible' described attributes of restaurants with low ratings."
   ]
  },
  {
   "cell_type": "code",
   "execution_count": 87,
   "metadata": {
    "collapsed": true
   },
   "outputs": [],
   "source": [
    "review_highs = highs['Review']\n",
    "review_lows = lows['Review']"
   ]
  },
  {
   "cell_type": "code",
   "execution_count": 88,
   "metadata": {
    "collapsed": true
   },
   "outputs": [],
   "source": [
    "review_highs = review_highs.str.decode(\"utf-8\")\n",
    "review_lows = review_lows.str.decode(\"utf-8\")"
   ]
  },
  {
   "cell_type": "code",
   "execution_count": 89,
   "metadata": {
    "collapsed": true
   },
   "outputs": [],
   "source": [
    "review_highs = review_highs.map(word_tokenize)\n",
    "review_lows = review_lows.map(word_tokenize)"
   ]
  },
  {
   "cell_type": "code",
   "execution_count": 90,
   "metadata": {
    "collapsed": true
   },
   "outputs": [],
   "source": [
    "review_highs = list(review_highs)\n",
    "review_lows = list(review_lows)"
   ]
  },
  {
   "cell_type": "code",
   "execution_count": 91,
   "metadata": {
    "collapsed": true
   },
   "outputs": [],
   "source": [
    "review_highs = list(itertools.chain.from_iterable(review_highs))\n",
    "review_lows = list(itertools.chain.from_iterable(review_lows))"
   ]
  },
  {
   "cell_type": "code",
   "execution_count": 92,
   "metadata": {
    "collapsed": true
   },
   "outputs": [],
   "source": [
    "highs_lower = [word.lower() for word in review_highs if word.isalpha()]\n",
    "lows_lower = [word.lower() for word in review_lows if word.isalpha()]"
   ]
  },
  {
   "cell_type": "code",
   "execution_count": 93,
   "metadata": {
    "collapsed": true
   },
   "outputs": [],
   "source": [
    "highs_vc = Series(highs_lower).value_counts()\n",
    "lows_vc = Series(lows_lower).value_counts()"
   ]
  },
  {
   "cell_type": "code",
   "execution_count": 94,
   "metadata": {
    "collapsed": true
   },
   "outputs": [],
   "source": [
    "highs_clean = [word for word in highs_vc.index if word not in stopwords.words(\"english\")]\n",
    "lows_clean = [word for word in lows_vc.index if word not in stopwords.words(\"english\")]"
   ]
  },
  {
   "cell_type": "code",
   "execution_count": 95,
   "metadata": {
    "collapsed": true
   },
   "outputs": [],
   "source": [
    "tag_high50 = pos_tag(highs_clean[:50])\n",
    "tag_low50 = pos_tag(lows_clean[:50])"
   ]
  },
  {
   "cell_type": "code",
   "execution_count": 96,
   "metadata": {
    "collapsed": true
   },
   "outputs": [],
   "source": [
    "high_attributes = [word for word, tag in tag_high50 if tag.startswith(\"NN\")]\n",
    "low_attributes = [word for word, tag in tag_low50 if tag.startswith(\"NN\")]"
   ]
  },
  {
   "cell_type": "code",
   "execution_count": 97,
   "metadata": {
    "collapsed": false
   },
   "outputs": [
    {
     "data": {
      "text/plain": [
       "[u'food', u'place', u'service', u'menu', u'restaurant']"
      ]
     },
     "execution_count": 97,
     "metadata": {},
     "output_type": "execute_result"
    }
   ],
   "source": [
    "high_attributes[:5]"
   ]
  },
  {
   "cell_type": "code",
   "execution_count": 98,
   "metadata": {
    "collapsed": false
   },
   "outputs": [
    {
     "data": {
      "text/plain": [
       "[u'food', u'place', u'service', u'restaurant', u'order']"
      ]
     },
     "execution_count": 98,
     "metadata": {},
     "output_type": "execute_result"
    }
   ],
   "source": [
    "low_attributes[:5]"
   ]
  },
  {
   "cell_type": "code",
   "execution_count": 79,
   "metadata": {
    "collapsed": true
   },
   "outputs": [],
   "source": [
    "stop_vectorizer = \\\n",
    "TfidfVectorizer(min_df=0, smooth_idf=True, strip_accents='unicode',\\\n",
    "                norm='l2', stop_words=\"english\")\n",
    "\n",
    "stop_train_x = stop_vectorizer.fit_transform(train_x)\n",
    "stop_test_x = stop_vectorizer.transform(test_x)\n",
    "stop_nb_classifier = MultinomialNB().fit(stop_train_x, train_y)"
   ]
  },
  {
   "cell_type": "code",
   "execution_count": 100,
   "metadata": {
    "collapsed": false
   },
   "outputs": [
    {
     "name": "stdout",
     "output_type": "stream",
     "text": [
      "Words most indicative of a high rating:\n",
      "gem amazing perfect windsor fantastic\n",
      "\n",
      "Words most indicative of a low rating: \n",
      "worse mediocre tasteless worst terrible\n"
     ]
    }
   ],
   "source": [
    "class0log = stop_nb_classifier.feature_log_prob_[0]\n",
    "class1log = stop_nb_classifier.feature_log_prob_[1]\n",
    "\n",
    "class1log_exp = []\n",
    "\n",
    "for i in class1log:\n",
    "    class1log_exp.append(math.exp(i))\n",
    "\n",
    "class0log_exp = []\n",
    "for j in class0log:\n",
    "    class0log_exp.append(math.exp(j))\n",
    "\n",
    "ratio = []\n",
    "for index, var in enumerate(class1log_exp):\n",
    "    ratio.append(class0log_exp[index]/var)\n",
    "\n",
    "vocabulary = np.array([t for t, i in sorted(stop_vectorizer.vocabulary_.iteritems(), key=itemgetter(1))])\n",
    "\n",
    "bottom5 = np.argsort(ratio)[:5]\n",
    "print('Words most indicative of a high rating:')\n",
    "print(\" \".join(vocabulary[bottom5]))\n",
    "top5 = np.argsort(ratio)[-5:]\n",
    "print('\\nWords most indicative of a low rating: ')\n",
    "print(\" \".join(vocabulary[top5]))"
   ]
  }
 ],
 "metadata": {
  "kernelspec": {
   "display_name": "Python 2",
   "language": "python",
   "name": "python2"
  },
  "language_info": {
   "codemirror_mode": {
    "name": "ipython",
    "version": 2
   },
   "file_extension": ".py",
   "mimetype": "text/x-python",
   "name": "python",
   "nbconvert_exporter": "python",
   "pygments_lexer": "ipython2",
   "version": "2.7.10"
  }
 },
 "nbformat": 4,
 "nbformat_minor": 0
}
